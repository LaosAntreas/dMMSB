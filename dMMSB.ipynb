{
 "cells": [
  {
   "cell_type": "markdown",
   "id": "c531ca7f",
   "metadata": {},
   "source": [
    "# Implementation of the dMMSB model (dynamic)"
   ]
  },
  {
   "cell_type": "code",
   "execution_count": 1,
   "id": "2dd30d55",
   "metadata": {},
   "outputs": [],
   "source": [
    "import jax\n",
    "import jax.numpy as jnp\n",
    "import jax.scipy as jsp\n",
    "from jax.scipy.special import logsumexp\n",
    "from jax.nn import softmax\n",
    "\n",
    "from jax import vmap, jit\n",
    "from jax.tree_util import register_pytree_node_class\n",
    "from functools import partial\n",
    "\n",
    "import networkx as nx\n",
    "import numpy as np\n",
    "import matplotlib.pyplot as plt\n"
   ]
  },
  {
   "cell_type": "code",
   "execution_count": null,
   "id": "8a8f4a2e",
   "metadata": {},
   "outputs": [
    {
     "ename": "SyntaxError",
     "evalue": "invalid syntax (2068489685.py, line 21)",
     "output_type": "error",
     "traceback": [
      "\u001b[0;36m  Cell \u001b[0;32mIn[2], line 21\u001b[0;36m\u001b[0m\n\u001b[0;31m    def\u001b[0m\n\u001b[0m       ^\u001b[0m\n\u001b[0;31mSyntaxError\u001b[0m\u001b[0;31m:\u001b[0m invalid syntax\n"
     ]
    }
   ],
   "source": [
    "class dMMSB():\n",
    "    def __init__(self, nodes, roles, timesteps, **kwargs):\n",
    "        self.N = nodes\n",
    "        self.K = roles\n",
    "        self.T = timesteps\n",
    "\n",
    "        key = kwargs.get('key', jax.random.PRNGKey(0))\n",
    "        self.B = kwargs.get('B', None)\n",
    "        self.mu = kwargs.get('mu', None)\n",
    "        self.Sigma = kwargs.get('Sigma', None)\n",
    "        self.gamma_tilde = kwargs.get('gamma_tilde', None)\n",
    "        self.Sigma_tilde = kwargs.get('Sigma_tilde', None)\n",
    "        self.nu = kwargs.get('nu', None)\n",
    "        self.Phi = kwargs.get('Phi', None)\n",
    "\n",
    "        # Initialize model parameters \n",
    "        if self.B is None:\n",
    "            self.B = jax.random.uniform(key, (self.K, self.K)) #shape (K,K)\n",
    "        if self.nu is None:\n",
    "            self.nu = jax.random.normal(key) # scalar\n",
    "        if self.mu is None:\n",
    "            self.mu = jnp.ones(self.T) * self.nu #shape (T,)\n",
    "        if self.Phi is None:\n",
    "            self.Phi = jnp.eye(self.K) *  10 #shape (K,K)\n",
    "        if self.Sigma is None:\n",
    "            self.Sigma = jnp.tile(jnp.eye(self.K)[None, :, :], (self.T, 1, 1)) * 10 #shape (T,K,K)\n",
    "\n",
    "        self.EPS = 1e-6\n",
    "        \n",
    "    def log_likelihood(self, delta, B, E):\n",
    "        '''\n",
    "        Compute the log likelihood of the data given the current parameters.\n",
    "        delta: shape (T,N,N,K,K)\n",
    "        B: shape (K,K)\n",
    "        E: shape (T,N,N)\n",
    "        '''\n",
    "        E_reshaped = E[:, :, :, None, None] # shape (T,N,N,1,1)\n",
    "        B_reshaped = B[None, None, None, :, :] # shape (1,1,1,K,K)\n",
    "        logB = jnp.log(B_reshaped + self.EPS) # shape (1,1,1,K,K)\n",
    "        log1mB = jnp.log(1.0 - B_reshaped + self.EPS) # shape (1,1,1,K,K)\n",
    "\n",
    "        ll_matrix = delta * (E_reshaped * logB + (1.0 - E_reshaped) * log1mB) # shape (T,N,N,K,K)\n",
    "        ll = jnp.sum(ll_matrix)\n",
    "        return ll\n",
    "    \n",
    "\n",
    "    def update_gamma_tilde_temporal(self, mu, Sigma_tilde, gamma_hat, g, H):\n",
    "        '''\n",
    "        Update gamma_tilde using the current parameters.\n",
    "        mu: shape (T,)\n",
    "        Sigma_tilde: shape (T,K,K)\n",
    "        gamma_hat: shape (N,K)\n",
    "        g: shape (N,K)\n",
    "        H: shape (N,K,K)\n",
    "        '''\n",
    "        #vmap over time\n",
    "        pass\n",
    "\n",
    "    def \n",
    "   \n",
    "    \n",
    "\n",
    "    \n",
    "\n"
   ]
  }
 ],
 "metadata": {
  "kernelspec": {
   "display_name": "deep",
   "language": "python",
   "name": "python3"
  },
  "language_info": {
   "codemirror_mode": {
    "name": "ipython",
    "version": 3
   },
   "file_extension": ".py",
   "mimetype": "text/x-python",
   "name": "python",
   "nbconvert_exporter": "python",
   "pygments_lexer": "ipython3",
   "version": "3.12.2"
  }
 },
 "nbformat": 4,
 "nbformat_minor": 5
}
